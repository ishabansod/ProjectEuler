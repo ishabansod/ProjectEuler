{
 "cells": [
  {
   "cell_type": "code",
   "execution_count": 1,
   "metadata": {},
   "outputs": [],
   "source": [
    "# problem 2\n",
    "\n",
    "def sum_fibonacci(lim):\n",
    "    f0 = 2\n",
    "    f1 = 8\n",
    "    sum = f0 + f1\n",
    "    while True:\n",
    "        fn = 4*f1 + f0\n",
    "        if fn > lim:\n",
    "            return sum\n",
    "        sum += fn\n",
    "        f0 = f1\n",
    "        f1 = fn\n",
    "\n",
    "print(sum_fibonacci(4000000))\n",
    "# 4613732"
   ]
  },
  {
   "cell_type": "code",
   "execution_count": null,
   "metadata": {},
   "outputs": [],
   "source": [
    "# problem 3\n",
    "# works but does not ensure that i is prime !\n",
    "\n",
    "def greatest_prime_factor(n):\n",
    "    greatest_prime = 2\n",
    "    for i in range(2,n):\n",
    "        if n % i == 0:\n",
    "            n = n/i\n",
    "            greatest_prime = i\n",
    "            if n == 1:\n",
    "                return greatest_prime\n",
    "            \n",
    "print(greatest_prime_factor(600851475143))\n",
    "# 6857"
   ]
  },
  {
   "cell_type": "code",
   "execution_count": null,
   "metadata": {},
   "outputs": [],
   "source": []
  }
 ],
 "metadata": {
  "kernelspec": {
   "display_name": "Python 3",
   "language": "python",
   "name": "python3"
  },
  "language_info": {
   "codemirror_mode": {
    "name": "ipython",
    "version": 3
   },
   "file_extension": ".py",
   "mimetype": "text/x-python",
   "name": "python",
   "nbconvert_exporter": "python",
   "pygments_lexer": "ipython3",
   "version": "3.11.1"
  }
 },
 "nbformat": 4,
 "nbformat_minor": 2
}
